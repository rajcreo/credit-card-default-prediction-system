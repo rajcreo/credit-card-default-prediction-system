{
  "nbformat": 4,
  "nbformat_minor": 0,
  "metadata": {
    "colab": {
      "name": "CreditCardDefault.ipynb",
      "provenance": [],
      "collapsed_sections": [],
      "authorship_tag": "ABX9TyNvoGP/2mUFlWOAQGVxzS6g",
      "include_colab_link": true
    },
    "kernelspec": {
      "name": "python3",
      "display_name": "Python 3"
    },
    "language_info": {
      "name": "python"
    }
  },
  "cells": [
    {
      "cell_type": "markdown",
      "metadata": {
        "id": "view-in-github",
        "colab_type": "text"
      },
      "source": [
        "<a href=\"https://colab.research.google.com/github/rajcreo/credit-card-default-prediction-system/blob/main/CreditCardDefault.ipynb\" target=\"_parent\"><img src=\"https://colab.research.google.com/assets/colab-badge.svg\" alt=\"Open In Colab\"/></a>"
      ]
    },
    {
      "cell_type": "markdown",
      "metadata": {
        "id": "mWIvAqkF6LH7"
      },
      "source": [
        "# Credit Card Defaulter Prediction Model"
      ]
    },
    {
      "cell_type": "code",
      "metadata": {
        "id": "ng_vDIc16SA6"
      },
      "source": [
        "import pandas as pd\n",
        "import numpy as np\n",
        "\n",
        "import matplotlib.pyplot as plt\n",
        "import seaborn as sns\n",
        "\n",
        "from google.colab import files\n",
        "import io\n",
        "\n",
        "from sklearn.model_selection import train_test_split\n",
        "from sklearn.model_selection import cross_val_predict\n",
        "\n",
        "from sklearn.preprocessing import OrdinalEncoder\n",
        "from sklearn.preprocessing import OneHotEncoder\n",
        "from sklearn.preprocessing import MinMaxScaler\n",
        "from sklearn.preprocessing import StandardScaler\n",
        "\n",
        "from imblearn.under_sampling import NearMiss\n",
        "from imblearn.over_sampling import SMOTE\n",
        "\n",
        "from sklearn.neural_network import MLPClassifier\n",
        "from sklearn.neighbors import KNeighborsClassifier\n",
        "from sklearn.linear_model import LogisticRegression\n",
        "from sklearn.tree import DecisionTreeClassifier\n",
        "from sklearn.ensemble import RandomForestClassifier\n",
        "from sklearn.svm import SVC\n",
        "\n",
        "from sklearn.metrics import accuracy_score, confusion_matrix\n",
        "from sklearn.metrics import f1_score\n",
        "from sklearn.metrics import precision_recall_curve, precision_score, recall_score\n"
      ],
      "execution_count": null,
      "outputs": []
    },
    {
      "cell_type": "code",
      "metadata": {
        "colab": {
          "resources": {
            "http://localhost:8080/nbextensions/google.colab/files.js": {
              "data": "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",
              "ok": true,
              "headers": [
                [
                  "content-type",
                  "application/javascript"
                ]
              ],
              "status": 200,
              "status_text": ""
            }
          },
          "base_uri": "https://localhost:8080/",
          "height": 128
        },
        "id": "rQyGakCTraEH",
        "outputId": "ce642942-dc11-403f-f25b-a767033e91f6"
      },
      "source": [
        "train_uploaded = files.upload()\n",
        "test_uploaded = files.upload()"
      ],
      "execution_count": null,
      "outputs": [
        {
          "output_type": "display_data",
          "data": {
            "text/html": [
              "\n",
              "     <input type=\"file\" id=\"files-ab0ce30d-5188-4b99-88c3-abf9146d600a\" name=\"files[]\" multiple disabled\n",
              "        style=\"border:none\" />\n",
              "     <output id=\"result-ab0ce30d-5188-4b99-88c3-abf9146d600a\">\n",
              "      Upload widget is only available when the cell has been executed in the\n",
              "      current browser session. Please rerun this cell to enable.\n",
              "      </output>\n",
              "      <script src=\"/nbextensions/google.colab/files.js\"></script> "
            ],
            "text/plain": [
              "<IPython.core.display.HTML object>"
            ]
          },
          "metadata": {}
        },
        {
          "output_type": "stream",
          "name": "stdout",
          "text": [
            "Saving train.csv to train.csv\n"
          ]
        },
        {
          "output_type": "display_data",
          "data": {
            "text/html": [
              "\n",
              "     <input type=\"file\" id=\"files-e9b7e775-4a54-4da7-8618-82be2a3704d9\" name=\"files[]\" multiple disabled\n",
              "        style=\"border:none\" />\n",
              "     <output id=\"result-e9b7e775-4a54-4da7-8618-82be2a3704d9\">\n",
              "      Upload widget is only available when the cell has been executed in the\n",
              "      current browser session. Please rerun this cell to enable.\n",
              "      </output>\n",
              "      <script src=\"/nbextensions/google.colab/files.js\"></script> "
            ],
            "text/plain": [
              "<IPython.core.display.HTML object>"
            ]
          },
          "metadata": {}
        },
        {
          "output_type": "stream",
          "name": "stdout",
          "text": [
            "Saving test.csv to test.csv\n"
          ]
        }
      ]
    },
    {
      "cell_type": "code",
      "metadata": {
        "id": "oCSmXyI77ENd"
      },
      "source": [
        "train = pd.read_csv(io.BytesIO(train_uploaded['train.csv']))\n",
        "test = pd.read_csv(io.BytesIO(test_uploaded['test.csv']))"
      ],
      "execution_count": null,
      "outputs": []
    },
    {
      "cell_type": "code",
      "metadata": {
        "colab": {
          "base_uri": "https://localhost:8080/"
        },
        "id": "p65dOyy7oa_R",
        "outputId": "b0e25c09-513f-4ec9-be7a-74153c4b3ab2"
      },
      "source": [
        "test_id = test.iloc[:,0]\n",
        "test_id"
      ],
      "execution_count": null,
      "outputs": [
        {
          "output_type": "execute_result",
          "data": {
            "text/plain": [
              "0        CST_142525\n",
              "1        CST_129215\n",
              "2        CST_138443\n",
              "3        CST_123812\n",
              "4        CST_144450\n",
              "            ...    \n",
              "11378    CST_142412\n",
              "11379    CST_107967\n",
              "11380    CST_134002\n",
              "11381    CST_146856\n",
              "11382    CST_112001\n",
              "Name: customer_id, Length: 11383, dtype: object"
            ]
          },
          "metadata": {},
          "execution_count": 4
        }
      ]
    },
    {
      "cell_type": "code",
      "metadata": {
        "colab": {
          "base_uri": "https://localhost:8080/"
        },
        "id": "iNBECC-f7NBm",
        "outputId": "e8137953-0189-4667-d9c3-fe2c44cef296"
      },
      "source": [
        "train.info()"
      ],
      "execution_count": null,
      "outputs": [
        {
          "output_type": "stream",
          "name": "stdout",
          "text": [
            "<class 'pandas.core.frame.DataFrame'>\n",
            "RangeIndex: 45528 entries, 0 to 45527\n",
            "Data columns (total 19 columns):\n",
            " #   Column                   Non-Null Count  Dtype  \n",
            "---  ------                   --------------  -----  \n",
            " 0   customer_id              45528 non-null  object \n",
            " 1   name                     45528 non-null  object \n",
            " 2   age                      45528 non-null  int64  \n",
            " 3   gender                   45528 non-null  object \n",
            " 4   owns_car                 44981 non-null  object \n",
            " 5   owns_house               45528 non-null  object \n",
            " 6   no_of_children           44754 non-null  float64\n",
            " 7   net_yearly_income        45528 non-null  float64\n",
            " 8   no_of_days_employed      45065 non-null  float64\n",
            " 9   occupation_type          45528 non-null  object \n",
            " 10  total_family_members     45445 non-null  float64\n",
            " 11  migrant_worker           45441 non-null  float64\n",
            " 12  yearly_debt_payments     45433 non-null  float64\n",
            " 13  credit_limit             45528 non-null  float64\n",
            " 14  credit_limit_used(%)     45528 non-null  int64  \n",
            " 15  credit_score             45520 non-null  float64\n",
            " 16  prev_defaults            45528 non-null  int64  \n",
            " 17  default_in_last_6months  45528 non-null  int64  \n",
            " 18  credit_card_default      45528 non-null  int64  \n",
            "dtypes: float64(8), int64(5), object(6)\n",
            "memory usage: 6.6+ MB\n"
          ]
        }
      ]
    },
    {
      "cell_type": "code",
      "source": [
        "train.default_in_last_6months.unique()"
      ],
      "metadata": {
        "colab": {
          "base_uri": "https://localhost:8080/"
        },
        "id": "SpVOpaRzjdSQ",
        "outputId": "22676381-6090-4e03-834f-96960ca81e6a"
      },
      "execution_count": null,
      "outputs": [
        {
          "output_type": "execute_result",
          "data": {
            "text/plain": [
              "array([1, 0])"
            ]
          },
          "metadata": {},
          "execution_count": 6
        }
      ]
    },
    {
      "cell_type": "code",
      "metadata": {
        "id": "PSKgTo9kgs_u"
      },
      "source": [
        "train.drop(['customer_id','name'], axis=1, inplace=True)"
      ],
      "execution_count": null,
      "outputs": []
    },
    {
      "cell_type": "code",
      "metadata": {
        "id": "uZcVENFxhVst"
      },
      "source": [
        "test.drop(['customer_id','name'], axis=1, inplace=True)"
      ],
      "execution_count": null,
      "outputs": []
    },
    {
      "cell_type": "code",
      "metadata": {
        "id": "gcdN5AI1kZs-",
        "colab": {
          "base_uri": "https://localhost:8080/"
        },
        "outputId": "423a04e6-e6b7-4b77-f2ff-414e443f8e17"
      },
      "source": [
        "X_train = train.drop(['credit_card_default'], axis=1)\n",
        "type(X_train)"
      ],
      "execution_count": null,
      "outputs": [
        {
          "output_type": "execute_result",
          "data": {
            "text/plain": [
              "pandas.core.frame.DataFrame"
            ]
          },
          "metadata": {},
          "execution_count": 105
        }
      ]
    },
    {
      "cell_type": "code",
      "metadata": {
        "id": "hspN6P8lP_P0"
      },
      "source": [
        "y_train = train['credit_card_default']"
      ],
      "execution_count": null,
      "outputs": []
    },
    {
      "cell_type": "code",
      "metadata": {
        "id": "2N9pm6ioiO9M"
      },
      "source": [
        "train_gender = train['gender']\n",
        "train_car = train['owns_car']\n",
        "train_house = train['owns_house']\n",
        "train_occ = train['occupation_type']\n",
        "train_num = X_train.drop(['gender', 'owns_car', 'owns_house', 'occupation_type'], axis=1)\n",
        "\n",
        "test_gender = test['gender']\n",
        "test_car = test['owns_car'] \n",
        "test_house = test['owns_house']\n",
        "test_occ = test['occupation_type']\n",
        "test_num = test.drop(['gender', 'owns_car', 'owns_house', 'occupation_type'], axis=1)"
      ],
      "execution_count": null,
      "outputs": []
    },
    {
      "cell_type": "code",
      "metadata": {
        "id": "B49w0LntkHBK"
      },
      "source": [
        ""
      ],
      "execution_count": null,
      "outputs": []
    },
    {
      "cell_type": "code",
      "metadata": {
        "id": "95DUsesSkWX6"
      },
      "source": [
        "gender_ord_encoder = OrdinalEncoder()"
      ],
      "execution_count": null,
      "outputs": []
    },
    {
      "cell_type": "code",
      "metadata": {
        "id": "SYG2C0CBmIin"
      },
      "source": [
        "train_gender_encoded = gender_ord_encoder.fit_transform(train_gender.values.reshape(-1, 1))"
      ],
      "execution_count": null,
      "outputs": []
    },
    {
      "cell_type": "code",
      "metadata": {
        "colab": {
          "base_uri": "https://localhost:8080/"
        },
        "id": "X_2PmqUvmQyW",
        "outputId": "353a8257-56ef-4fba-d056-b75fa14ff910"
      },
      "source": [
        "gender_ord_encoder.categories_"
      ],
      "execution_count": null,
      "outputs": [
        {
          "output_type": "execute_result",
          "data": {
            "text/plain": [
              "[array(['F', 'M', 'XNA'], dtype=object)]"
            ]
          },
          "metadata": {},
          "execution_count": 14
        }
      ]
    },
    {
      "cell_type": "code",
      "metadata": {
        "colab": {
          "base_uri": "https://localhost:8080/"
        },
        "id": "tGX_B9vjnoyQ",
        "outputId": "33891832-f1c3-49a7-d684-d204ebc557e5"
      },
      "source": [
        "car_ord_encoder = OrdinalEncoder()\n",
        "train_car_encoded = car_ord_encoder.fit_transform(train_car.values.reshape(-1, 1))\n",
        "car_ord_encoder.categories_"
      ],
      "execution_count": null,
      "outputs": [
        {
          "output_type": "execute_result",
          "data": {
            "text/plain": [
              "[array(['N', 'Y', nan], dtype=object)]"
            ]
          },
          "metadata": {},
          "execution_count": 15
        }
      ]
    },
    {
      "cell_type": "code",
      "metadata": {
        "id": "ToDdxDIfqKRG"
      },
      "source": [
        "train_car_encoded[np.isnan(train_car_encoded)] = -1"
      ],
      "execution_count": null,
      "outputs": []
    },
    {
      "cell_type": "code",
      "metadata": {
        "colab": {
          "base_uri": "https://localhost:8080/"
        },
        "id": "N_lthvq8qxQh",
        "outputId": "caf4fc23-eac0-41fe-d388-269b3cf0c2b1"
      },
      "source": [
        "house_ord_encoder = OrdinalEncoder()\n",
        "train_house_encoded = house_ord_encoder.fit_transform(train_house.values.reshape(-1, 1))\n",
        "house_ord_encoder.categories_"
      ],
      "execution_count": null,
      "outputs": [
        {
          "output_type": "execute_result",
          "data": {
            "text/plain": [
              "[array(['N', 'Y'], dtype=object)]"
            ]
          },
          "metadata": {},
          "execution_count": 17
        }
      ]
    },
    {
      "cell_type": "code",
      "metadata": {
        "colab": {
          "base_uri": "https://localhost:8080/"
        },
        "id": "5AUNdBasxli_",
        "outputId": "3213f1da-b4d8-4651-b568-00ef68d80301"
      },
      "source": [
        "occ_ord_encoder = OrdinalEncoder()\n",
        "train_occ_encoded = occ_ord_encoder.fit_transform(train_occ.values.reshape(-1, 1))\n",
        "occ_ord_encoder.categories_"
      ],
      "execution_count": null,
      "outputs": [
        {
          "output_type": "execute_result",
          "data": {
            "text/plain": [
              "[array(['Accountants', 'Cleaning staff', 'Cooking staff', 'Core staff',\n",
              "        'Drivers', 'HR staff', 'High skill tech staff', 'IT staff',\n",
              "        'Laborers', 'Low-skill Laborers', 'Managers', 'Medicine staff',\n",
              "        'Private service staff', 'Realty agents', 'Sales staff',\n",
              "        'Secretaries', 'Security staff', 'Unknown', 'Waiters/barmen staff'],\n",
              "       dtype=object)]"
            ]
          },
          "metadata": {},
          "execution_count": 18
        }
      ]
    },
    {
      "cell_type": "code",
      "source": [
        "len(train_occ.unique())"
      ],
      "metadata": {
        "colab": {
          "base_uri": "https://localhost:8080/"
        },
        "id": "G6REEUnwuNCw",
        "outputId": "f8de74d9-cdd2-4070-9c0d-f367d226a0b8"
      },
      "execution_count": null,
      "outputs": [
        {
          "output_type": "execute_result",
          "data": {
            "text/plain": [
              "19"
            ]
          },
          "metadata": {},
          "execution_count": 19
        }
      ]
    },
    {
      "cell_type": "code",
      "source": [
        "train_occ_hot_encoded = pd.get_dummies(train_occ)"
      ],
      "metadata": {
        "id": "OKVf-JsO0FZL"
      },
      "execution_count": null,
      "outputs": []
    },
    {
      "cell_type": "code",
      "metadata": {
        "colab": {
          "base_uri": "https://localhost:8080/",
          "height": 461
        },
        "id": "7LUfG3xTr7qq",
        "outputId": "37c0b227-a454-4fd7-9fb8-09280f498fed"
      },
      "source": [
        "fig, ax = plt.subplots(figsize=(10,6))\n",
        "sns.boxplot(train_num.no_of_children)"
      ],
      "execution_count": null,
      "outputs": [
        {
          "output_type": "stream",
          "name": "stderr",
          "text": [
            "/usr/local/lib/python3.7/dist-packages/seaborn/_decorators.py:43: FutureWarning: Pass the following variable as a keyword arg: x. From version 0.12, the only valid positional argument will be `data`, and passing other arguments without an explicit keyword will result in an error or misinterpretation.\n",
            "  FutureWarning\n"
          ]
        },
        {
          "output_type": "execute_result",
          "data": {
            "text/plain": [
              "<matplotlib.axes._subplots.AxesSubplot at 0x7f01e2fab090>"
            ]
          },
          "metadata": {},
          "execution_count": 21
        },
        {
          "output_type": "display_data",
          "data": {
            "image/png": "[encoded data removed]",
            "text/plain": [
              "<Figure size 720x432 with 1 Axes>"
            ]
          },
          "metadata": {
            "needs_background": "light"
          }
        }
      ]
    },
    {
      "cell_type": "code",
      "metadata": {
        "colab": {
          "base_uri": "https://localhost:8080/",
          "height": 461
        },
        "id": "Q-vQu0TxT2Bf",
        "outputId": "d6fd3818-0771-4856-bb5a-9c62173e5475"
      },
      "source": [
        "fig, ax = plt.subplots(figsize=(10,6))\n",
        "sns.distplot(train_num.no_of_children)"
      ],
      "execution_count": null,
      "outputs": [
        {
          "output_type": "stream",
          "name": "stderr",
          "text": [
            "/usr/local/lib/python3.7/dist-packages/seaborn/distributions.py:2619: FutureWarning: `distplot` is a deprecated function and will be removed in a future version. Please adapt your code to use either `displot` (a figure-level function with similar flexibility) or `histplot` (an axes-level function for histograms).\n",
            "  warnings.warn(msg, FutureWarning)\n"
          ]
        },
        {
          "output_type": "execute_result",
          "data": {
            "text/plain": [
              "<matplotlib.axes._subplots.AxesSubplot at 0x7f01e32b3cd0>"
            ]
          },
          "metadata": {},
          "execution_count": 22
        },
        {
          "output_type": "display_data",
          "data": {
            "image/png": "[encoded data removed]",
            "text/plain": [
              "<Figure size 720x432 with 1 Axes>"
            ]
          },
          "metadata": {
            "needs_background": "light"
          }
        }
      ]
    },
    {
      "cell_type": "code",
      "metadata": {
        "colab": {
          "base_uri": "https://localhost:8080/"
        },
        "id": "I_aZn_foVW8h",
        "outputId": "f57d5694-067c-4898-e9fb-3a4aeba97bb3"
      },
      "source": [
        "train_num['no_of_children'] = train_num['no_of_children'].fillna(train_num['no_of_children'].mode()[0])\n",
        "train_num['no_of_children'].mode()[0]"
      ],
      "execution_count": null,
      "outputs": [
        {
          "output_type": "execute_result",
          "data": {
            "text/plain": [
              "0.0"
            ]
          },
          "metadata": {},
          "execution_count": 23
        }
      ]
    },
    {
      "cell_type": "code",
      "metadata": {
        "id": "G3ddMKRRbA6X"
      },
      "source": [
        "train_num['no_of_days_employed'] = train_num['no_of_days_employed'].fillna(train_num['no_of_days_employed'].median())"
      ],
      "execution_count": null,
      "outputs": []
    },
    {
      "cell_type": "code",
      "metadata": {
        "id": "V7dzZWktwTGN"
      },
      "source": [
        "train_num['total_family_members'] = train_num['total_family_members'].fillna(train_num['total_family_members'].median())"
      ],
      "execution_count": null,
      "outputs": []
    },
    {
      "cell_type": "code",
      "metadata": {
        "id": "dQyp0hKpzKP0"
      },
      "source": [
        "train_num['migrant_worker'] = train_num['migrant_worker'].fillna(-1)"
      ],
      "execution_count": null,
      "outputs": []
    },
    {
      "cell_type": "code",
      "metadata": {
        "id": "nR9QhICY0JhH"
      },
      "source": [
        "train_num['yearly_debt_payments'] = train_num['yearly_debt_payments'].fillna(train_num['yearly_debt_payments'].median())"
      ],
      "execution_count": null,
      "outputs": []
    },
    {
      "cell_type": "code",
      "metadata": {
        "id": "S04ZerUB3OSd"
      },
      "source": [
        "train_num['credit_score'] = train_num['credit_score'].fillna(train_num['credit_score'].mode()[0])"
      ],
      "execution_count": null,
      "outputs": []
    },
    {
      "cell_type": "code",
      "metadata": {
        "id": "Sh3I2vrgKylP"
      },
      "source": [
        "train_num.insert(loc=1, column='gender',value=train_gender_encoded)"
      ],
      "execution_count": null,
      "outputs": []
    },
    {
      "cell_type": "code",
      "metadata": {
        "id": "UogqibtVLPO4"
      },
      "source": [
        "train_num.insert(loc=2, column='owns_car', value=train_car_encoded)"
      ],
      "execution_count": null,
      "outputs": []
    },
    {
      "cell_type": "code",
      "metadata": {
        "id": "GbZiaIdeLvqL"
      },
      "source": [
        "train_num.insert(loc=3, column='owns_house', value=train_house_encoded)"
      ],
      "execution_count": null,
      "outputs": []
    },
    {
      "cell_type": "code",
      "source": [
        "train_num = pd.concat([train_num, train_occ_hot_encoded], axis=1)"
      ],
      "metadata": {
        "id": "NNppwl8t0mY8"
      },
      "execution_count": null,
      "outputs": []
    },
    {
      "cell_type": "code",
      "metadata": {
        "colab": {
          "base_uri": "https://localhost:8080/"
        },
        "id": "lieKD_PcMBBD",
        "outputId": "824e3947-9e5f-43a9-aafd-5f9d2cf08e01"
      },
      "source": [
        "train_num.info()"
      ],
      "execution_count": null,
      "outputs": [
        {
          "output_type": "stream",
          "name": "stdout",
          "text": [
            "<class 'pandas.core.frame.DataFrame'>\n",
            "RangeIndex: 45528 entries, 0 to 45527\n",
            "Data columns (total 34 columns):\n",
            " #   Column                   Non-Null Count  Dtype  \n",
            "---  ------                   --------------  -----  \n",
            " 0   age                      45528 non-null  int64  \n",
            " 1   gender                   45528 non-null  float64\n",
            " 2   owns_car                 45528 non-null  float64\n",
            " 3   owns_house               45528 non-null  float64\n",
            " 4   no_of_children           45528 non-null  float64\n",
            " 5   net_yearly_income        45528 non-null  float64\n",
            " 6   no_of_days_employed      45528 non-null  float64\n",
            " 7   total_family_members     45528 non-null  float64\n",
            " 8   migrant_worker           45528 non-null  float64\n",
            " 9   yearly_debt_payments     45528 non-null  float64\n",
            " 10  credit_limit             45528 non-null  float64\n",
            " 11  credit_limit_used(%)     45528 non-null  int64  \n",
            " 12  credit_score             45528 non-null  float64\n",
            " 13  prev_defaults            45528 non-null  int64  \n",
            " 14  default_in_last_6months  45528 non-null  int64  \n",
            " 15  Accountants              45528 non-null  uint8  \n",
            " 16  Cleaning staff           45528 non-null  uint8  \n",
            " 17  Cooking staff            45528 non-null  uint8  \n",
            " 18  Core staff               45528 non-null  uint8  \n",
            " 19  Drivers                  45528 non-null  uint8  \n",
            " 20  HR staff                 45528 non-null  uint8  \n",
            " 21  High skill tech staff    45528 non-null  uint8  \n",
            " 22  IT staff                 45528 non-null  uint8  \n",
            " 23  Laborers                 45528 non-null  uint8  \n",
            " 24  Low-skill Laborers       45528 non-null  uint8  \n",
            " 25  Managers                 45528 non-null  uint8  \n",
            " 26  Medicine staff           45528 non-null  uint8  \n",
            " 27  Private service staff    45528 non-null  uint8  \n",
            " 28  Realty agents            45528 non-null  uint8  \n",
            " 29  Sales staff              45528 non-null  uint8  \n",
            " 30  Secretaries              45528 non-null  uint8  \n",
            " 31  Security staff           45528 non-null  uint8  \n",
            " 32  Unknown                  45528 non-null  uint8  \n",
            " 33  Waiters/barmen staff     45528 non-null  uint8  \n",
            "dtypes: float64(11), int64(4), uint8(19)\n",
            "memory usage: 6.0 MB\n"
          ]
        }
      ]
    },
    {
      "cell_type": "code",
      "metadata": {
        "id": "AfBMJRJFNE-h"
      },
      "source": [
        "X_train_column = train_num.columns"
      ],
      "execution_count": null,
      "outputs": []
    },
    {
      "cell_type": "code",
      "metadata": {
        "id": "vFj4jyydMnGQ"
      },
      "source": [
        "scaler = MinMaxScaler()"
      ],
      "execution_count": null,
      "outputs": []
    },
    {
      "cell_type": "code",
      "metadata": {
        "id": "Pa8yeAG0MpyC"
      },
      "source": [
        "X_train = scaler.fit_transform(train_num)"
      ],
      "execution_count": null,
      "outputs": []
    },
    {
      "cell_type": "code",
      "metadata": {
        "id": "A1i4ngrCNdx6"
      },
      "source": [
        "X_train_df = pd.DataFrame(X_train, columns=X_train_column)"
      ],
      "execution_count": null,
      "outputs": []
    },
    {
      "cell_type": "code",
      "metadata": {
        "id": "WFwnql062HfK"
      },
      "source": [
        "X_train_split, X_test_split, y_train_split, y_test_split = train_test_split(X_train_df, y_train, test_size=0.33, random_state=42)"
      ],
      "execution_count": null,
      "outputs": []
    },
    {
      "cell_type": "code",
      "source": [
        "gender_ord_encoder = OrdinalEncoder()\n",
        "test_gender_encoded = gender_ord_encoder.fit_transform(test_gender.values.reshape(-1, 1))\n",
        "gender_ord_encoder.categories_"
      ],
      "metadata": {
        "colab": {
          "base_uri": "https://localhost:8080/"
        },
        "id": "oEy4HM2-gfva",
        "outputId": "6240bf5c-e8d6-4251-ebab-9d72680b44ef"
      },
      "execution_count": null,
      "outputs": [
        {
          "output_type": "execute_result",
          "data": {
            "text/plain": [
              "[array(['F', 'M', 'XNA'], dtype=object)]"
            ]
          },
          "metadata": {},
          "execution_count": 39
        }
      ]
    },
    {
      "cell_type": "code",
      "source": [
        "car_ord_encoder = OrdinalEncoder()\n",
        "test_car_encoded = car_ord_encoder.fit_transform(test_car.values.reshape(-1, 1))\n",
        "test_car_encoded[np.isnan(test_car_encoded)] = -1\n",
        "car_ord_encoder.categories_"
      ],
      "metadata": {
        "colab": {
          "base_uri": "https://localhost:8080/"
        },
        "id": "uVKYhacBhGb9",
        "outputId": "66e32d01-0513-4018-c6cb-3f7a0f7fde34"
      },
      "execution_count": null,
      "outputs": [
        {
          "output_type": "execute_result",
          "data": {
            "text/plain": [
              "[array(['N', 'Y', nan], dtype=object)]"
            ]
          },
          "metadata": {},
          "execution_count": 40
        }
      ]
    },
    {
      "cell_type": "code",
      "source": [
        "house_ord_encoder = OrdinalEncoder()\n",
        "test_house_encoded = house_ord_encoder.fit_transform(test_house.values.reshape(-1, 1))\n",
        "house_ord_encoder.categories_"
      ],
      "metadata": {
        "colab": {
          "base_uri": "https://localhost:8080/"
        },
        "id": "RnTeuR5pheMl",
        "outputId": "0f021664-c34b-42a8-e25e-3d93a3fee138"
      },
      "execution_count": null,
      "outputs": [
        {
          "output_type": "execute_result",
          "data": {
            "text/plain": [
              "[array(['N', 'Y'], dtype=object)]"
            ]
          },
          "metadata": {},
          "execution_count": 41
        }
      ]
    },
    {
      "cell_type": "code",
      "source": [
        "occ_ord_encoder = OrdinalEncoder()\n",
        "test_occ_encoded = occ_ord_encoder.fit_transform(test_occ.values.reshape(-1, 1))\n",
        "occ_ord_encoder.categories_\n",
        "len(test_occ_encoded)"
      ],
      "metadata": {
        "colab": {
          "base_uri": "https://localhost:8080/"
        },
        "id": "EGFQMbk5h7Rq",
        "outputId": "8ae48086-4a63-47b2-d9c4-5be8db4e303c"
      },
      "execution_count": null,
      "outputs": [
        {
          "output_type": "execute_result",
          "data": {
            "text/plain": [
              "11383"
            ]
          },
          "metadata": {},
          "execution_count": 143
        }
      ]
    },
    {
      "cell_type": "code",
      "source": [
        "test_occ_hot_encoded = pd.get_dummies(test_occ)\n",
        "# test_occ_hot_encoded"
      ],
      "metadata": {
        "id": "jDRD_qvH1BLW"
      },
      "execution_count": null,
      "outputs": []
    },
    {
      "cell_type": "code",
      "metadata": {
        "id": "W3ZqLWeojrA3"
      },
      "source": [
        "test_num['no_of_children'] = test_num['no_of_children'].fillna(test_num['no_of_children'].mode()[0])\n",
        "test_num['no_of_days_employed'] = test_num['no_of_days_employed'].fillna(test_num['no_of_days_employed'].median())\n",
        "test_num['total_family_members'] = test_num['total_family_members'].fillna(test_num['total_family_members'].median())\n",
        "test_num['migrant_worker'] = test_num['migrant_worker'].fillna(-1)\n",
        "test_num['yearly_debt_payments'] = test_num['yearly_debt_payments'].fillna(test_num['yearly_debt_payments'].median())\n",
        "test_num['credit_score'] = test_num['credit_score'].fillna(test_num['credit_score'].mode()[0])"
      ],
      "execution_count": null,
      "outputs": []
    },
    {
      "cell_type": "code",
      "source": [
        "test_num.insert(loc=1, column='gender',value=test_gender_encoded)\n",
        "test_num.insert(loc=2, column='owns_car', value=test_car_encoded)\n",
        "test_num.insert(loc=3, column='owns_house', value=test_house_encoded)\n",
        "# test_num.insert(loc=7, column='occupation_type', value=test_occ_encoded)"
      ],
      "metadata": {
        "id": "IuoSQMK-ksVR"
      },
      "execution_count": null,
      "outputs": []
    },
    {
      "cell_type": "code",
      "source": [
        "test_num = pd.concat([test_num, test_occ_hot_encoded], axis=1)"
      ],
      "metadata": {
        "id": "SXk7lvHd1YBF"
      },
      "execution_count": null,
      "outputs": []
    },
    {
      "cell_type": "code",
      "source": [
        "test_num.info()"
      ],
      "metadata": {
        "colab": {
          "base_uri": "https://localhost:8080/"
        },
        "id": "bcSl6UYB1lXG",
        "outputId": "5b01799b-4f51-4955-8b30-32c9687cee53"
      },
      "execution_count": null,
      "outputs": [
        {
          "output_type": "stream",
          "name": "stdout",
          "text": [
            "<class 'pandas.core.frame.DataFrame'>\n",
            "RangeIndex: 11383 entries, 0 to 11382\n",
            "Data columns (total 34 columns):\n",
            " #   Column                   Non-Null Count  Dtype  \n",
            "---  ------                   --------------  -----  \n",
            " 0   age                      11383 non-null  int64  \n",
            " 1   gender                   11383 non-null  float64\n",
            " 2   owns_car                 11383 non-null  float64\n",
            " 3   owns_house               11383 non-null  float64\n",
            " 4   no_of_children           11383 non-null  float64\n",
            " 5   net_yearly_income        11383 non-null  float64\n",
            " 6   no_of_days_employed      11383 non-null  float64\n",
            " 7   total_family_members     11383 non-null  float64\n",
            " 8   migrant_worker           11383 non-null  float64\n",
            " 9   yearly_debt_payments     11383 non-null  float64\n",
            " 10  credit_limit             11383 non-null  float64\n",
            " 11  credit_limit_used(%)     11383 non-null  int64  \n",
            " 12  credit_score             11383 non-null  float64\n",
            " 13  prev_defaults            11383 non-null  int64  \n",
            " 14  default_in_last_6months  11383 non-null  int64  \n",
            " 15  Accountants              11383 non-null  uint8  \n",
            " 16  Cleaning staff           11383 non-null  uint8  \n",
            " 17  Cooking staff            11383 non-null  uint8  \n",
            " 18  Core staff               11383 non-null  uint8  \n",
            " 19  Drivers                  11383 non-null  uint8  \n",
            " 20  HR staff                 11383 non-null  uint8  \n",
            " 21  High skill tech staff    11383 non-null  uint8  \n",
            " 22  IT staff                 11383 non-null  uint8  \n",
            " 23  Laborers                 11383 non-null  uint8  \n",
            " 24  Low-skill Laborers       11383 non-null  uint8  \n",
            " 25  Managers                 11383 non-null  uint8  \n",
            " 26  Medicine staff           11383 non-null  uint8  \n",
            " 27  Private service staff    11383 non-null  uint8  \n",
            " 28  Realty agents            11383 non-null  uint8  \n",
            " 29  Sales staff              11383 non-null  uint8  \n",
            " 30  Secretaries              11383 non-null  uint8  \n",
            " 31  Security staff           11383 non-null  uint8  \n",
            " 32  Unknown                  11383 non-null  uint8  \n",
            " 33  Waiters/barmen staff     11383 non-null  uint8  \n",
            "dtypes: float64(11), int64(4), uint8(19)\n",
            "memory usage: 1.5 MB\n"
          ]
        }
      ]
    },
    {
      "cell_type": "code",
      "source": [
        "X_test_column = test_num.columns"
      ],
      "metadata": {
        "id": "QzeWmPLrlMVy"
      },
      "execution_count": null,
      "outputs": []
    },
    {
      "cell_type": "code",
      "source": [
        "test_scaler = MinMaxScaler()"
      ],
      "metadata": {
        "id": "8fFKB1TRmDN0"
      },
      "execution_count": null,
      "outputs": []
    },
    {
      "cell_type": "code",
      "source": [
        "X_test = test_scaler.fit_transform(test_num)"
      ],
      "metadata": {
        "id": "FSuEdEqEmVD4"
      },
      "execution_count": null,
      "outputs": []
    },
    {
      "cell_type": "code",
      "source": [
        "X_test_df = pd.DataFrame(X_test, columns=X_test_column)"
      ],
      "metadata": {
        "id": "3PvXQRtxmc4E"
      },
      "execution_count": null,
      "outputs": []
    },
    {
      "cell_type": "code",
      "source": [
        "X_test_df.info()"
      ],
      "metadata": {
        "id": "JIDhvXmdVC96",
        "outputId": "9a774d93-90cb-41a6-c771-57df4a5c4952",
        "colab": {
          "base_uri": "https://localhost:8080/"
        }
      },
      "execution_count": null,
      "outputs": [
        {
          "output_type": "stream",
          "name": "stdout",
          "text": [
            "<class 'pandas.core.frame.DataFrame'>\n",
            "RangeIndex: 11383 entries, 0 to 11382\n",
            "Data columns (total 34 columns):\n",
            " #   Column                   Non-Null Count  Dtype  \n",
            "---  ------                   --------------  -----  \n",
            " 0   age                      11383 non-null  float64\n",
            " 1   gender                   11383 non-null  float64\n",
            " 2   owns_car                 11383 non-null  float64\n",
            " 3   owns_house               11383 non-null  float64\n",
            " 4   no_of_children           11383 non-null  float64\n",
            " 5   net_yearly_income        11383 non-null  float64\n",
            " 6   no_of_days_employed      11383 non-null  float64\n",
            " 7   total_family_members     11383 non-null  float64\n",
            " 8   migrant_worker           11383 non-null  float64\n",
            " 9   yearly_debt_payments     11383 non-null  float64\n",
            " 10  credit_limit             11383 non-null  float64\n",
            " 11  credit_limit_used(%)     11383 non-null  float64\n",
            " 12  credit_score             11383 non-null  float64\n",
            " 13  prev_defaults            11383 non-null  float64\n",
            " 14  default_in_last_6months  11383 non-null  float64\n",
            " 15  Accountants              11383 non-null  float64\n",
            " 16  Cleaning staff           11383 non-null  float64\n",
            " 17  Cooking staff            11383 non-null  float64\n",
            " 18  Core staff               11383 non-null  float64\n",
            " 19  Drivers                  11383 non-null  float64\n",
            " 20  HR staff                 11383 non-null  float64\n",
            " 21  High skill tech staff    11383 non-null  float64\n",
            " 22  IT staff                 11383 non-null  float64\n",
            " 23  Laborers                 11383 non-null  float64\n",
            " 24  Low-skill Laborers       11383 non-null  float64\n",
            " 25  Managers                 11383 non-null  float64\n",
            " 26  Medicine staff           11383 non-null  float64\n",
            " 27  Private service staff    11383 non-null  float64\n",
            " 28  Realty agents            11383 non-null  float64\n",
            " 29  Sales staff              11383 non-null  float64\n",
            " 30  Secretaries              11383 non-null  float64\n",
            " 31  Security staff           11383 non-null  float64\n",
            " 32  Unknown                  11383 non-null  float64\n",
            " 33  Waiters/barmen staff     11383 non-null  float64\n",
            "dtypes: float64(34)\n",
            "memory usage: 3.0 MB\n"
          ]
        }
      ]
    },
    {
      "cell_type": "code",
      "source": [
        "svm_clf = SVC()\n",
        "svm_clf.fit(X_train_split, y_train_split)\n",
        "svm_pred = svm_clf.predict(X_test_split)\n",
        "svm_acc = accuracy_score(y_test_split, svm_pred)\n",
        "print(svm_acc)\n",
        "svm_f1_score = 100*(f1_score(y_test_split, svm_pred, average='macro'))\n",
        "svm_f1_score"
      ],
      "metadata": {
        "colab": {
          "base_uri": "https://localhost:8080/"
        },
        "id": "peaIa99xXvmt",
        "outputId": "376d9f2f-1880-47f9-ff11-6e98f880c5a4"
      },
      "execution_count": null,
      "outputs": [
        {
          "output_type": "stream",
          "name": "stdout",
          "text": [
            "0.9808319467554076\n"
          ]
        },
        {
          "output_type": "execute_result",
          "data": {
            "text/plain": [
              "92.9960862767187"
            ]
          },
          "metadata": {},
          "execution_count": 53
        }
      ]
    },
    {
      "cell_type": "code",
      "source": [
        "precision_score(y_test_split, svm_pred)"
      ],
      "metadata": {
        "colab": {
          "base_uri": "https://localhost:8080/"
        },
        "id": "g0Q5oET6uKIv",
        "outputId": "4a9107d9-c683-437b-8278-c8f98434ad05"
      },
      "execution_count": null,
      "outputs": [
        {
          "output_type": "execute_result",
          "data": {
            "text/plain": [
              "1.0"
            ]
          },
          "metadata": {},
          "execution_count": 54
        }
      ]
    },
    {
      "cell_type": "code",
      "source": [
        "recall_score(y_test_split, svm_pred)"
      ],
      "metadata": {
        "colab": {
          "base_uri": "https://localhost:8080/"
        },
        "id": "JwH-4az4ueS6",
        "outputId": "98db041e-6b41-463b-e24e-e702114f970b"
      },
      "execution_count": null,
      "outputs": [
        {
          "output_type": "execute_result",
          "data": {
            "text/plain": [
              "0.7703349282296651"
            ]
          },
          "metadata": {},
          "execution_count": 55
        }
      ]
    },
    {
      "cell_type": "code",
      "source": [
        "y_scores = cross_val_predict(svm_clf, X_train_split, y_train_split, cv=3, method='decision_function')"
      ],
      "metadata": {
        "id": "5Vls3te-1s5Q"
      },
      "execution_count": null,
      "outputs": []
    },
    {
      "cell_type": "code",
      "source": [
        "precisions, recalls, thresolds = precision_recall_curve(y_train_split, y_scores)"
      ],
      "metadata": {
        "id": "4zAXYULE3Z5N"
      },
      "execution_count": null,
      "outputs": []
    },
    {
      "cell_type": "code",
      "source": [
        "len(precisions[:-1])"
      ],
      "metadata": {
        "colab": {
          "base_uri": "https://localhost:8080/"
        },
        "id": "LcdyiS_v3fSP",
        "outputId": "e670320d-fca3-43a0-dbde-0ff184c46371"
      },
      "execution_count": null,
      "outputs": [
        {
          "output_type": "execute_result",
          "data": {
            "text/plain": [
              "7742"
            ]
          },
          "metadata": {},
          "execution_count": 58
        }
      ]
    },
    {
      "cell_type": "code",
      "source": [
        "def plot_precision_recall_vs_thresold(precisions, recalls, thresolds):\n",
        "  plt.plot(thresolds, precisions[:-1], 'b--', label=\"Precision\", linewidth=2)\n",
        "  plt.plot(thresolds, recalls[:-1], \"g-\", label=\"Recall\", linewidth=2)\n",
        "  plt.legend(loc='center left', fontsize=16)\n",
        "  plt.xlabel('Thresold', fontsize=16)\n",
        "  plt.grid(True)\n",
        "  "
      ],
      "metadata": {
        "id": "861UgX2F3hCC"
      },
      "execution_count": null,
      "outputs": []
    },
    {
      "cell_type": "code",
      "source": [
        "plot_precision_recall_vs_thresold(precisions, recalls, thresolds)"
      ],
      "metadata": {
        "colab": {
          "base_uri": "https://localhost:8080/",
          "height": 284
        },
        "id": "wGaAvBia48MF",
        "outputId": "b897f5f0-63d4-4e68-a9da-28b938ca18db"
      },
      "execution_count": null,
      "outputs": [
        {
          "output_type": "display_data",
          "data": {
            "image/png": "[encoded data removed]",
            "text/plain": [
              "<Figure size 432x288 with 1 Axes>"
            ]
          },
          "metadata": {
            "needs_background": "light"
          }
        }
      ]
    },
    {
      "cell_type": "code",
      "source": [
        "perfect_thresold = thresolds[np.argmax(precisions == recalls)]"
      ],
      "metadata": {
        "id": "VcQPxqOW5ELw"
      },
      "execution_count": null,
      "outputs": []
    },
    {
      "cell_type": "code",
      "source": [
        "perfect_thresold"
      ],
      "metadata": {
        "colab": {
          "base_uri": "https://localhost:8080/"
        },
        "id": "A-naWtq170wk",
        "outputId": "434a7b17-4255-47d5-e3a4-ec839b9161a2"
      },
      "execution_count": null,
      "outputs": [
        {
          "output_type": "execute_result",
          "data": {
            "text/plain": [
              "-0.8853342064356882"
            ]
          },
          "metadata": {},
          "execution_count": 62
        }
      ]
    },
    {
      "cell_type": "code",
      "source": [
        "nm = NearMiss()"
      ],
      "metadata": {
        "id": "WZ20tOxlei9R"
      },
      "execution_count": null,
      "outputs": []
    },
    {
      "cell_type": "code",
      "source": [
        "X_train_under, y_train_under = nm.fit_resample(X_train_df, y_train) "
      ],
      "metadata": {
        "id": "rE483YYcehCK"
      },
      "execution_count": null,
      "outputs": []
    },
    {
      "cell_type": "code",
      "source": [
        "print(X_train_under.shape)\n",
        "print(y_train_under.shape)"
      ],
      "metadata": {
        "colab": {
          "base_uri": "https://localhost:8080/"
        },
        "id": "TIPnJ0dIhnHO",
        "outputId": "ad63d307-72bd-4cbe-b9d4-626cd9c34896"
      },
      "execution_count": null,
      "outputs": [
        {
          "output_type": "stream",
          "name": "stdout",
          "text": [
            "(7394, 34)\n",
            "(7394,)\n"
          ]
        }
      ]
    },
    {
      "cell_type": "code",
      "source": [
        "X_train_under_split, X_test_under_split, y_train_under_split, y_test_under_split = train_test_split(X_train_under, y_train_under, test_size=0.33, random_state = 42)"
      ],
      "metadata": {
        "id": "DTemsDOhhnOg"
      },
      "execution_count": null,
      "outputs": []
    },
    {
      "cell_type": "code",
      "source": [
        "under_svm = SVC()\n",
        "under_svm.fit(X_train_under_split, y_train_under_split)\n",
        "under_svm_pred = under_svm.predict(X_test_under_split)\n",
        "under_svm_acc = accuracy_score(y_test_under_split, under_svm_pred)\n",
        "print(under_svm_acc)\n",
        "under_svm_score = f1_score(y_test_under_split, under_svm_pred, average=\"macro\")*100\n",
        "print(under_svm_score)"
      ],
      "metadata": {
        "colab": {
          "base_uri": "https://localhost:8080/"
        },
        "id": "XWpdUPAzhnT9",
        "outputId": "e7d9d1b6-7441-46e5-8eb3-7284ec11df05"
      },
      "execution_count": null,
      "outputs": [
        {
          "output_type": "stream",
          "name": "stdout",
          "text": [
            "0.8959442851290454\n",
            "89.47032873570713\n"
          ]
        }
      ]
    },
    {
      "cell_type": "code",
      "source": [
        ""
      ],
      "metadata": {
        "id": "PmQksz-_hnZ_"
      },
      "execution_count": null,
      "outputs": []
    },
    {
      "cell_type": "code",
      "source": [
        "smote = SMOTE()"
      ],
      "metadata": {
        "id": "ed2YFfmEhnlz"
      },
      "execution_count": null,
      "outputs": []
    },
    {
      "cell_type": "code",
      "source": [
        "X_train_upper, y_train_upper = smote.fit_resample(X_train_df, y_train)"
      ],
      "metadata": {
        "id": "ljhdrt9jhnsx"
      },
      "execution_count": null,
      "outputs": []
    },
    {
      "cell_type": "code",
      "source": [
        "print(X_train_upper.shape)\n",
        "print(y_train_upper.shape)"
      ],
      "metadata": {
        "colab": {
          "base_uri": "https://localhost:8080/"
        },
        "id": "psX7IKghhn2d",
        "outputId": "e0817ecd-235d-4e02-9094-4705bc2d6486"
      },
      "execution_count": null,
      "outputs": [
        {
          "output_type": "stream",
          "name": "stdout",
          "text": [
            "(83662, 34)\n",
            "(83662,)\n"
          ]
        }
      ]
    },
    {
      "cell_type": "code",
      "source": [
        "X_train_upper_split, X_test_upper_split, y_train_upper_split, y_test_upper_split = train_test_split(X_train_upper, y_train_upper, test_size=0.33, random_state = 42)"
      ],
      "metadata": {
        "id": "ODxYvC9Ahn97"
      },
      "execution_count": null,
      "outputs": []
    },
    {
      "cell_type": "code",
      "source": [
        "upper_svm = SVC()\n",
        "upper_svm.fit(X_train_upper_split, y_train_upper_split)\n",
        "upper_svm_pred = upper_svm.predict(X_test_upper_split)\n",
        "upper_svm_acc = accuracy_score(y_test_upper_split, upper_svm_pred)\n",
        "print(upper_svm_acc)\n",
        "upper_svm_score = f1_score(y_test_upper_split, upper_svm_pred, average=\"macro\")*100\n",
        "print(upper_svm_score)"
      ],
      "metadata": {
        "colab": {
          "base_uri": "https://localhost:8080/"
        },
        "id": "nLjurKYjhoD1",
        "outputId": "714cf5e7-a31f-4ba3-bd62-a491d6be1a28"
      },
      "execution_count": null,
      "outputs": [
        {
          "output_type": "stream",
          "name": "stdout",
          "text": [
            "0.9669672932739324\n",
            "96.69446250586387\n"
          ]
        }
      ]
    },
    {
      "cell_type": "code",
      "source": [
        "precision_score(y_test_upper_split, upper_svm_pred)"
      ],
      "metadata": {
        "colab": {
          "base_uri": "https://localhost:8080/"
        },
        "id": "eiX-sVghhoJt",
        "outputId": "5e5c3246-9ef5-4d02-fd08-baa0a0884246"
      },
      "execution_count": null,
      "outputs": [
        {
          "output_type": "execute_result",
          "data": {
            "text/plain": [
              "0.9468885972788176"
            ]
          },
          "metadata": {},
          "execution_count": 73
        }
      ]
    },
    {
      "cell_type": "code",
      "source": [
        "recall_score(y_test_upper_split, upper_svm_pred)"
      ],
      "metadata": {
        "colab": {
          "base_uri": "https://localhost:8080/"
        },
        "id": "jXUdkScrhoR9",
        "outputId": "e82515c0-929d-4a39-d02b-00f1de3b1a8e"
      },
      "execution_count": null,
      "outputs": [
        {
          "output_type": "execute_result",
          "data": {
            "text/plain": [
              "0.9896773262109291"
            ]
          },
          "metadata": {},
          "execution_count": 74
        }
      ]
    },
    {
      "cell_type": "code",
      "source": [
        "y_score_upper = cross_val_predict(upper_svm, X_train_upper_split, y_train_upper_split, cv=3, method='decision_function')"
      ],
      "metadata": {
        "id": "Z6cb79KYhoX9"
      },
      "execution_count": null,
      "outputs": []
    },
    {
      "cell_type": "code",
      "source": [
        "upper_pr, upper_re, upper_th = precision_recall_curve(y_train_upper_split, y_score_upper)"
      ],
      "metadata": {
        "id": "vID3GuKehofP"
      },
      "execution_count": null,
      "outputs": []
    },
    {
      "cell_type": "code",
      "source": [
        "plot_precision_recall_vs_thresold(upper_pr, upper_re, upper_th)"
      ],
      "metadata": {
        "colab": {
          "base_uri": "https://localhost:8080/",
          "height": 284
        },
        "id": "jxh35dlEholA",
        "outputId": "7a6e5947-e98a-4777-e724-946e8ed1a7cc"
      },
      "execution_count": null,
      "outputs": [
        {
          "output_type": "display_data",
          "data": {
            "image/png": "[encoded data removed]",
            "text/plain": [
              "<Figure size 432x288 with 1 Axes>"
            ]
          },
          "metadata": {
            "needs_background": "light"
          }
        }
      ]
    },
    {
      "cell_type": "code",
      "source": [
        "# X_train.info()"
      ],
      "metadata": {
        "id": "HyT3E-AdhoqX"
      },
      "execution_count": null,
      "outputs": []
    },
    {
      "cell_type": "code",
      "source": [
        ""
      ],
      "metadata": {
        "id": "ocfetvskhoxx"
      },
      "execution_count": null,
      "outputs": []
    },
    {
      "cell_type": "code",
      "source": [
        ""
      ],
      "metadata": {
        "id": "2glWd9rKho4b"
      },
      "execution_count": null,
      "outputs": []
    },
    {
      "cell_type": "markdown",
      "source": [
        "# Full Dataset"
      ],
      "metadata": {
        "id": "jr0eqnqkjEDl"
      }
    },
    {
      "cell_type": "code",
      "source": [
        "# print(f\"train_0 %: {100*len(y_train[y_train==0])/len(y_train)}\")\n",
        "# print(f\"train_1 %: {100*len(y_train[y_train==1])/len(y_train)}\")\n",
        "# print(f\"test_0 %: {100*len(full_svm_pred[full_svm_pred==0])/len(X_test_df)}\")\n",
        "# print(f\"test_1 %: {100*len(full_svm_pred[full_svm_pred==1])/len(X_test_df)}\")\n",
        "\n",
        "\n",
        "# full_svm = SVC()\n",
        "# full_svm.fit(X_train_df, y_train)\n",
        "# full_svm_pred = full_svm.predict(X_test_df)"
      ],
      "metadata": {
        "id": "3ICYiMB0jKT9"
      },
      "execution_count": null,
      "outputs": []
    },
    {
      "cell_type": "code",
      "source": [
        "full_svm_clf = SVC()\n",
        "full_svm_clf.fit(X_train_upper, y_train_upper)\n",
        "full_svm_pred = full_svm_clf.predict(X_test_df)"
      ],
      "metadata": {
        "id": "6uJrYwUzjLgf"
      },
      "execution_count": null,
      "outputs": []
    },
    {
      "cell_type": "code",
      "source": [
        "full_svm_output = pd.DataFrame({'customer_id': test_id.values, 'credit_card_default': full_svm_pred})"
      ],
      "metadata": {
        "id": "gSWYco_DlwPa"
      },
      "execution_count": null,
      "outputs": []
    },
    {
      "cell_type": "code",
      "source": [
        "full_svm_output.to_csv('submission_svm_upper.csv', index=False)"
      ],
      "metadata": {
        "id": "GP1BiKC1lwJL"
      },
      "execution_count": null,
      "outputs": []
    },
    {
      "cell_type": "code",
      "source": [
        "full_svm_output"
      ],
      "metadata": {
        "colab": {
          "base_uri": "https://localhost:8080/",
          "height": 424
        },
        "id": "L5HrG7Dalv3N",
        "outputId": "a817af5f-2aef-413b-f702-d7900d0dfdff"
      },
      "execution_count": null,
      "outputs": [
        {
          "output_type": "execute_result",
          "data": {
            "text/html": [
              "\n",
              "  <div id=\"df-6b2c81f8-e9d3-41c9-8820-9b07fed8ba59\">\n",
              "    <div class=\"colab-df-container\">\n",
              "      <div>\n",
              "<style scoped>\n",
              "    .dataframe tbody tr th:only-of-type {\n",
              "        vertical-align: middle;\n",
              "    }\n",
              "\n",
              "    .dataframe tbody tr th {\n",
              "        vertical-align: top;\n",
              "    }\n",
              "\n",
              "    .dataframe thead th {\n",
              "        text-align: right;\n",
              "    }\n",
              "</style>\n",
              "<table border=\"1\" class=\"dataframe\">\n",
              "  <thead>\n",
              "    <tr style=\"text-align: right;\">\n",
              "      <th></th>\n",
              "      <th>customer_id</th>\n",
              "      <th>credit_card_default</th>\n",
              "    </tr>\n",
              "  </thead>\n",
              "  <tbody>\n",
              "    <tr>\n",
              "      <th>0</th>\n",
              "      <td>CST_142525</td>\n",
              "      <td>0</td>\n",
              "    </tr>\n",
              "    <tr>\n",
              "      <th>1</th>\n",
              "      <td>CST_129215</td>\n",
              "      <td>0</td>\n",
              "    </tr>\n",
              "    <tr>\n",
              "      <th>2</th>\n",
              "      <td>CST_138443</td>\n",
              "      <td>1</td>\n",
              "    </tr>\n",
              "    <tr>\n",
              "      <th>3</th>\n",
              "      <td>CST_123812</td>\n",
              "      <td>0</td>\n",
              "    </tr>\n",
              "    <tr>\n",
              "      <th>4</th>\n",
              "      <td>CST_144450</td>\n",
              "      <td>1</td>\n",
              "    </tr>\n",
              "    <tr>\n",
              "      <th>...</th>\n",
              "      <td>...</td>\n",
              "      <td>...</td>\n",
              "    </tr>\n",
              "    <tr>\n",
              "      <th>11378</th>\n",
              "      <td>CST_142412</td>\n",
              "      <td>0</td>\n",
              "    </tr>\n",
              "    <tr>\n",
              "      <th>11379</th>\n",
              "      <td>CST_107967</td>\n",
              "      <td>0</td>\n",
              "    </tr>\n",
              "    <tr>\n",
              "      <th>11380</th>\n",
              "      <td>CST_134002</td>\n",
              "      <td>1</td>\n",
              "    </tr>\n",
              "    <tr>\n",
              "      <th>11381</th>\n",
              "      <td>CST_146856</td>\n",
              "      <td>0</td>\n",
              "    </tr>\n",
              "    <tr>\n",
              "      <th>11382</th>\n",
              "      <td>CST_112001</td>\n",
              "      <td>0</td>\n",
              "    </tr>\n",
              "  </tbody>\n",
              "</table>\n",
              "<p>11383 rows × 2 columns</p>\n",
              "</div>\n",
              "      <button class=\"colab-df-convert\" onclick=\"convertToInteractive('df-6b2c81f8-e9d3-41c9-8820-9b07fed8ba59')\"\n",
              "              title=\"Convert this dataframe to an interactive table.\"\n",
              "              style=\"display:none;\">\n",
              "        \n",
              "  <svg xmlns=\"http://www.w3.org/2000/svg\" height=\"24px\"viewBox=\"0 0 24 24\"\n",
              "       width=\"24px\">\n",
              "    <path d=\"M0 0h24v24H0V0z\" fill=\"none\"/>\n",
              "    <path d=\"M18.56 5.44l.94 2.06.94-2.06 2.06-.94-2.06-.94-.94-2.06-.94 2.06-2.06.94zm-11 1L8.5 8.5l.94-2.06 2.06-.94-2.06-.94L8.5 2.5l-.94 2.06-2.06.94zm10 10l.94 2.06.94-2.06 2.06-.94-2.06-.94-.94-2.06-.94 2.06-2.06.94z\"/><path d=\"M17.41 7.96l-1.37-1.37c-.4-.4-.92-.59-1.43-.59-.52 0-1.04.2-1.43.59L10.3 9.45l-7.72 7.72c-.78.78-.78 2.05 0 2.83L4 21.41c.39.39.9.59 1.41.59.51 0 1.02-.2 1.41-.59l7.78-7.78 2.81-2.81c.8-.78.8-2.07 0-2.86zM5.41 20L4 18.59l7.72-7.72 1.47 1.35L5.41 20z\"/>\n",
              "  </svg>\n",
              "      </button>\n",
              "      \n",
              "  <style>\n",
              "    .colab-df-container {\n",
              "      display:flex;\n",
              "      flex-wrap:wrap;\n",
              "      gap: 12px;\n",
              "    }\n",
              "\n",
              "    .colab-df-convert {\n",
              "      background-color: #E8F0FE;\n",
              "      border: none;\n",
              "      border-radius: 50%;\n",
              "      cursor: pointer;\n",
              "      display: none;\n",
              "      fill: #1967D2;\n",
              "      height: 32px;\n",
              "      padding: 0 0 0 0;\n",
              "      width: 32px;\n",
              "    }\n",
              "\n",
              "    .colab-df-convert:hover {\n",
              "      background-color: #E2EBFA;\n",
              "      box-shadow: 0px 1px 2px rgba(60, 64, 67, 0.3), 0px 1px 3px 1px rgba(60, 64, 67, 0.15);\n",
              "      fill: #174EA6;\n",
              "    }\n",
              "\n",
              "    [theme=dark] .colab-df-convert {\n",
              "      background-color: #3B4455;\n",
              "      fill: #D2E3FC;\n",
              "    }\n",
              "\n",
              "    [theme=dark] .colab-df-convert:hover {\n",
              "      background-color: #434B5C;\n",
              "      box-shadow: 0px 1px 3px 1px rgba(0, 0, 0, 0.15);\n",
              "      filter: drop-shadow(0px 1px 2px rgba(0, 0, 0, 0.3));\n",
              "      fill: #FFFFFF;\n",
              "    }\n",
              "  </style>\n",
              "\n",
              "      <script>\n",
              "        const buttonEl =\n",
              "          document.querySelector('#df-6b2c81f8-e9d3-41c9-8820-9b07fed8ba59 button.colab-df-convert');\n",
              "        buttonEl.style.display =\n",
              "          google.colab.kernel.accessAllowed ? 'block' : 'none';\n",
              "\n",
              "        async function convertToInteractive(key) {\n",
              "          const element = document.querySelector('#df-6b2c81f8-e9d3-41c9-8820-9b07fed8ba59');\n",
              "          const dataTable =\n",
              "            await google.colab.kernel.invokeFunction('convertToInteractive',\n",
              "                                                     [key], {});\n",
              "          if (!dataTable) return;\n",
              "\n",
              "          const docLinkHtml = 'Like what you see? Visit the ' +\n",
              "            '<a target=\"_blank\" href=https://colab.research.google.com/notebooks/data_table.ipynb>data table notebook</a>'\n",
              "            + ' to learn more about interactive tables.';\n",
              "          element.innerHTML = '';\n",
              "          dataTable['output_type'] = 'display_data';\n",
              "          await google.colab.output.renderOutput(dataTable, element);\n",
              "          const docLink = document.createElement('div');\n",
              "          docLink.innerHTML = docLinkHtml;\n",
              "          element.appendChild(docLink);\n",
              "        }\n",
              "      </script>\n",
              "    </div>\n",
              "  </div>\n",
              "  "
            ],
            "text/plain": [
              "      customer_id  credit_card_default\n",
              "0      CST_142525                    0\n",
              "1      CST_129215                    0\n",
              "2      CST_138443                    1\n",
              "3      CST_123812                    0\n",
              "4      CST_144450                    1\n",
              "...           ...                  ...\n",
              "11378  CST_142412                    0\n",
              "11379  CST_107967                    0\n",
              "11380  CST_134002                    1\n",
              "11381  CST_146856                    0\n",
              "11382  CST_112001                    0\n",
              "\n",
              "[11383 rows x 2 columns]"
            ]
          },
          "metadata": {},
          "execution_count": 82
        }
      ]
    },
    {
      "cell_type": "code",
      "source": [
        ""
      ],
      "metadata": {
        "id": "TgTzXZMflvoU"
      },
      "execution_count": null,
      "outputs": []
    },
    {
      "cell_type": "code",
      "source": [
        ""
      ],
      "metadata": {
        "id": "TnEEzKHblvVs"
      },
      "execution_count": null,
      "outputs": []
    },
    {
      "cell_type": "code",
      "source": [
        ""
      ],
      "metadata": {
        "id": "niuvTEjyLw2E"
      },
      "execution_count": null,
      "outputs": []
    },
    {
      "cell_type": "code",
      "source": [
        ""
      ],
      "metadata": {
        "id": "8fThgLbELwj6"
      },
      "execution_count": null,
      "outputs": []
    },
    {
      "cell_type": "code",
      "source": [
        ""
      ],
      "metadata": {
        "id": "IH7W4iT_LwQS"
      },
      "execution_count": null,
      "outputs": []
    },
    {
      "cell_type": "code",
      "source": [
        ""
      ],
      "metadata": {
        "id": "6lNFvXzrLv1x"
      },
      "execution_count": null,
      "outputs": []
    },
    {
      "cell_type": "markdown",
      "source": [
        "# Rough"
      ],
      "metadata": {
        "id": "Dnaqz3U7duRt"
      }
    },
    {
      "cell_type": "code",
      "source": [
        "# nn_clf = MLPClassifier(hidden_layer_sizes=(32, 32, 16, 12, 8), solver='sgd', activation='tanh', random_state=1)\n",
        "# nn_clf.fit(X_train_split, y_train_split)\n",
        "# nn_pred = nn_clf.predict(X_test_split)\n",
        "# print(f\"accXuracy: {accuracy_score(y_test_split, nn_pred)}\")\n",
        "# print()"
      ],
      "metadata": {
        "id": "ECbL6Vt2N1xJ"
      },
      "execution_count": null,
      "outputs": []
    },
    {
      "cell_type": "code",
      "source": [
        "# hidden_layer_sizes=(32, 32, 16, 10, 4)\n",
        "# hidden_layer_sizes=(32, 32, 16, 10, 8) //accuracy: 0.9808985024958403\n",
        "# hidden_layer_sizes=(32, 32, 16, 12, 8) //accuracy: 0.9814309484193011"
      ],
      "metadata": {
        "id": "p2UBHF2ExEhl"
      },
      "execution_count": null,
      "outputs": []
    },
    {
      "cell_type": "code",
      "source": [
        "# full_nn_clf = MLPClassifier(hidden_layer_sizes=(32, 32, 16, 12, 8), solver='sgd', activation='tanh')\n",
        "# full_nn_clf.fit(X_train_df, y_train)\n",
        "# full_nn_pred = nn_clf.predict(X_test_df)\n",
        "# full_nn_pred"
      ],
      "metadata": {
        "id": "mxd9eXNdxUPW"
      },
      "execution_count": null,
      "outputs": []
    },
    {
      "cell_type": "code",
      "source": [
        "# nn_output = pd.DataFrame({'customer_id': test_id.values, 'credit_card_default': full_nn_pred})"
      ],
      "metadata": {
        "id": "awaDXYB65fer"
      },
      "execution_count": null,
      "outputs": []
    },
    {
      "cell_type": "code",
      "source": [
        "# nn_output.to_csv('submission_32_32_16_12_8.csv', index=False)"
      ],
      "metadata": {
        "id": "niFUZ9nU5tRi"
      },
      "execution_count": null,
      "outputs": []
    },
    {
      "cell_type": "code",
      "metadata": {
        "id": "11tRitR35dWF"
      },
      "source": [
        "# dt_clf = DecisionTreeClassifier()\n",
        "# dt_clf.fit(X_train_split, y_train_split)\n",
        "# dt_pred = dt_clf.predict(X_test_split)\n",
        "# dt_acc = accuracy_score(y_test_split, dt_pred)\n",
        "# dt_cm = confusion_matrix(y_test_split, dt_pred)\n",
        "# print(dt_acc)\n",
        "# dt_cm"
      ],
      "execution_count": null,
      "outputs": []
    },
    {
      "cell_type": "code",
      "metadata": {
        "id": "TzBYW4686jD2"
      },
      "source": [
        "# rf_clf = RandomForestClassifier()\n",
        "# rf_clf.fit(X_train_split, y_train_split)\n",
        "# rf_pred = rf_clf.predict(X_test_split)\n",
        "# rf_acc = accuracy_score(y_test_split, rf_pred)\n",
        "# print(rf_acc)\n",
        "# rf_cm = confusion_matrix(y_test_split, rf_pred)\n",
        "# rf_cm"
      ],
      "execution_count": null,
      "outputs": []
    },
    {
      "cell_type": "code",
      "source": [
        "# knn = KNeighborsClassifier(n_neighbors=10)\n",
        "# knn.fit(X_train_split, y_train_split)\n",
        "# knn_pred = knn.predict(X_test_split)\n",
        "# print(f\"accuracy: {accuracy_score(y_test_split, knn_pred)}\")\n",
        "# print(f\"score: {100*f1_score(y_test_split, knn_pred, average='macro')}\")"
      ],
      "metadata": {
        "id": "h0-vdacY84h6"
      },
      "execution_count": null,
      "outputs": []
    },
    {
      "cell_type": "code",
      "source": [
        "# lr = LogisticRegression()\n",
        "# lr.fit(X_train_split, y_train_split)\n",
        "# lr_pred = lr.predict(X_test_split)\n",
        "# print(f\"accuracy: {accuracy_score(y_test_split, lr_pred)}\")\n",
        "# print(f\"score: {100*f1_score(y_test_split, lr_pred, average='macro')}\")"
      ],
      "metadata": {
        "id": "YNDxLVL9-u-w"
      },
      "execution_count": null,
      "outputs": []
    },
    {
      "cell_type": "code",
      "source": [
        "# full_lr = LogisticRegression()\n",
        "# full_lr.fit(X_train_df, y_train)\n",
        "# full_lr_pred = lr.predict(X_test_df)\n",
        "# print(f\"accuracy: {accuracy_score(y_test_split, lr_pred)}\")\n",
        "# print(f\"score: {100*f1_score(y_test_split, lr_pred, average='macro')}\")"
      ],
      "metadata": {
        "id": "8znQEPWa_m6X"
      },
      "execution_count": null,
      "outputs": []
    },
    {
      "cell_type": "code",
      "source": [
        "# full_lr_output = pd.DataFrame({'customer_id': test_id.values, 'credit_card_default': full_lr_pred})"
      ],
      "metadata": {
        "id": "xQ4LRCP5GT38"
      },
      "execution_count": null,
      "outputs": []
    },
    {
      "cell_type": "code",
      "source": [
        "# nn_output.to_csv('submission_lr.csv', index=False)"
      ],
      "metadata": {
        "id": "DSJ6FNVUGga2"
      },
      "execution_count": null,
      "outputs": []
    },
    {
      "cell_type": "code",
      "source": [
        ""
      ],
      "metadata": {
        "id": "bevq4lzaGwWB"
      },
      "execution_count": null,
      "outputs": []
    },
    {
      "cell_type": "code",
      "source": [
        "# sd_scaler = StandardScaler()"
      ],
      "metadata": {
        "id": "yXJarK-KS1-B"
      },
      "execution_count": null,
      "outputs": []
    },
    {
      "cell_type": "code",
      "source": [
        "# X_train_scaled = sd_scaler.fit_transform(train_num)\n",
        "# X_train_scaled_df = pd.DataFrame(X_train_scaled, columns=X_train_column)"
      ],
      "metadata": {
        "id": "UINMj4M_S6Bl"
      },
      "execution_count": null,
      "outputs": []
    },
    {
      "cell_type": "code",
      "source": [
        "# test_sd_scaler = StandardScaler()\n",
        "# X_test_scaled = test_sd_scaler.fit_transform(test_num)\n",
        "# X_test_scaled_df = pd.DataFrame(X_test_scaled, columns=X_test_column)"
      ],
      "metadata": {
        "id": "4pyBpDihTx8Y"
      },
      "execution_count": null,
      "outputs": []
    },
    {
      "cell_type": "code",
      "source": [
        "# X_train_scaled_split, X_test_scaled_split, y_train_scaled_split, y_test_scaled_split = train_test_split(X_train_scaled, y_train, test_size=0.33, random_state=42)"
      ],
      "metadata": {
        "id": "98V6MLtVUvvJ"
      },
      "execution_count": null,
      "outputs": []
    },
    {
      "cell_type": "code",
      "source": [
        "# scaled_svm = SVC()\n",
        "# scaled_svm.fit(X_train_scaled_split, y_train_scaled_split)\n",
        "# scaled_svm_pred = scaled_svm.predict(X_test_scaled_split)\n",
        "# acc = accuracy_score(y_test_scaled_split, scaled_svm_pred)\n",
        "# print(acc)\n",
        "# score = 100*(f1_score(y_test_scaled_split, scaled_svm_pred, average='macro'))\n",
        "# print(score)"
      ],
      "metadata": {
        "id": "nDymLO9ZVnRs"
      },
      "execution_count": null,
      "outputs": []
    },
    {
      "cell_type": "markdown",
      "source": [
        "# Ordinal Encoded Dataset"
      ],
      "metadata": {
        "id": "xVon4ope_DCP"
      }
    },
    {
      "cell_type": "code",
      "metadata": {
        "id": "KBC_mmfL_kHr"
      },
      "source": [
        "X_train_ord = X_train.copy()\n",
        "X_train_ord_column = X_train.columns\n",
        "X_train_ord = pd.DataFrame(X_train_ord, columns=X_train_ord_column)"
      ],
      "execution_count": null,
      "outputs": []
    },
    {
      "cell_type": "code",
      "source": [
        "X_train_ord.drop(['gender', 'owns_car', 'owns_house', 'occupation_type'], axis = 1, inplace = True)"
      ],
      "metadata": {
        "id": "9gGtfTnI_Ldb"
      },
      "execution_count": null,
      "outputs": []
    },
    {
      "cell_type": "code",
      "metadata": {
        "id": "NjuS1aus_kHr"
      },
      "source": [
        "X_train_ord.insert(loc=1, column='gender', value=train_gender_encoded)\n",
        "X_train_ord.insert(loc=2, column='owns_car', value=train_car_encoded)\n",
        "X_train_ord.insert(loc=3, column='owns_house', value=train_house_encoded)\n",
        "X_train_ord.insert(loc=7, column='occupation_type', value=train_occ_encoded)"
      ],
      "execution_count": null,
      "outputs": []
    },
    {
      "cell_type": "code",
      "source": [
        "X_train_ord['no_of_children'] = X_train_ord['no_of_children'].fillna(X_train_ord['no_of_children'].mode()[0])\n",
        "X_train_ord['no_of_days_employed'] = X_train_ord['no_of_days_employed'].fillna(X_train_ord['no_of_days_employed'].median())\n",
        "X_train_ord['total_family_members'] = X_train_ord['total_family_members'].fillna(X_train_ord['total_family_members'].median())\n",
        "X_train_ord['migrant_worker'] = X_train_ord['migrant_worker'].fillna(-1)\n",
        "X_train_ord['yearly_debt_payments'] = X_train_ord['yearly_debt_payments'].fillna(X_train_ord['yearly_debt_payments'].median())\n",
        "X_train_ord['credit_score'] = X_train_ord['credit_score'].fillna(X_train_ord['credit_score'].mode()[0])"
      ],
      "metadata": {
        "id": "IryK-THxBAPe"
      },
      "execution_count": null,
      "outputs": []
    },
    {
      "cell_type": "code",
      "source": [
        "X_train_ord_scaler = MinMaxScaler()\n",
        "X_train_ord = X_train_ord_scaler.fit_transform(X_train_ord)\n",
        "X_train_ord = pd.DataFrame(X_train_ord, columns=X_train_ord_column)"
      ],
      "metadata": {
        "id": "FOKA8KqtPi72"
      },
      "execution_count": null,
      "outputs": []
    },
    {
      "cell_type": "code",
      "source": [
        "X_train_ord.insert(loc=len(X_train_ord.columns), column='credit_card_default', value=y_train)"
      ],
      "metadata": {
        "id": "W0wiShRXCY1F"
      },
      "execution_count": null,
      "outputs": []
    },
    {
      "cell_type": "code",
      "source": [
        "X_train_ord.info()"
      ],
      "metadata": {
        "colab": {
          "base_uri": "https://localhost:8080/"
        },
        "id": "lWDdDNNQCdnm",
        "outputId": "6f85cc89-66da-4b7f-f2eb-bb8e05648df7"
      },
      "execution_count": null,
      "outputs": [
        {
          "output_type": "stream",
          "name": "stdout",
          "text": [
            "<class 'pandas.core.frame.DataFrame'>\n",
            "RangeIndex: 45528 entries, 0 to 45527\n",
            "Data columns (total 17 columns):\n",
            " #   Column                   Non-Null Count  Dtype  \n",
            "---  ------                   --------------  -----  \n",
            " 0   age                      45528 non-null  float64\n",
            " 1   gender                   45528 non-null  float64\n",
            " 2   owns_car                 45528 non-null  float64\n",
            " 3   owns_house               45528 non-null  float64\n",
            " 4   no_of_children           45528 non-null  float64\n",
            " 5   net_yearly_income        45528 non-null  float64\n",
            " 6   no_of_days_employed      45528 non-null  float64\n",
            " 7   occupation_type          45528 non-null  float64\n",
            " 8   total_family_members     45528 non-null  float64\n",
            " 9   migrant_worker           45528 non-null  float64\n",
            " 10  yearly_debt_payments     45528 non-null  float64\n",
            " 11  credit_limit             45528 non-null  float64\n",
            " 12  credit_limit_used(%)     45528 non-null  float64\n",
            " 13  credit_score             45528 non-null  float64\n",
            " 14  prev_defaults            45528 non-null  float64\n",
            " 15  default_in_last_6months  45528 non-null  float64\n",
            " 16  credit_card_default      45528 non-null  int64  \n",
            "dtypes: float64(16), int64(1)\n",
            "memory usage: 5.9 MB\n"
          ]
        }
      ]
    },
    {
      "cell_type": "code",
      "source": [
        "X_train_ord.head()"
      ],
      "metadata": {
        "colab": {
          "base_uri": "https://localhost:8080/",
          "height": 270
        },
        "id": "8zvNP0JJQHUv",
        "outputId": "b7838b0e-adfd-4ac6-c3ed-3469cbb6490a"
      },
      "execution_count": null,
      "outputs": [
        {
          "output_type": "execute_result",
          "data": {
            "text/html": [
              "\n",
              "  <div id=\"df-e93610c8-9f83-493a-ba3b-65f448b7b980\">\n",
              "    <div class=\"colab-df-container\">\n",
              "      <div>\n",
              "<style scoped>\n",
              "    .dataframe tbody tr th:only-of-type {\n",
              "        vertical-align: middle;\n",
              "    }\n",
              "\n",
              "    .dataframe tbody tr th {\n",
              "        vertical-align: top;\n",
              "    }\n",
              "\n",
              "    .dataframe thead th {\n",
              "        text-align: right;\n",
              "    }\n",
              "</style>\n",
              "<table border=\"1\" class=\"dataframe\">\n",
              "  <thead>\n",
              "    <tr style=\"text-align: right;\">\n",
              "      <th></th>\n",
              "      <th>age</th>\n",
              "      <th>gender</th>\n",
              "      <th>owns_car</th>\n",
              "      <th>owns_house</th>\n",
              "      <th>no_of_children</th>\n",
              "      <th>net_yearly_income</th>\n",
              "      <th>no_of_days_employed</th>\n",
              "      <th>occupation_type</th>\n",
              "      <th>total_family_members</th>\n",
              "      <th>migrant_worker</th>\n",
              "      <th>yearly_debt_payments</th>\n",
              "      <th>credit_limit</th>\n",
              "      <th>credit_limit_used(%)</th>\n",
              "      <th>credit_score</th>\n",
              "      <th>prev_defaults</th>\n",
              "      <th>default_in_last_6months</th>\n",
              "      <th>credit_card_default</th>\n",
              "    </tr>\n",
              "  </thead>\n",
              "  <tbody>\n",
              "    <tr>\n",
              "      <th>0</th>\n",
              "      <td>0.71875</td>\n",
              "      <td>0.0</td>\n",
              "      <td>0.5</td>\n",
              "      <td>1.0</td>\n",
              "      <td>0.0</td>\n",
              "      <td>0.000574</td>\n",
              "      <td>0.001670</td>\n",
              "      <td>0.944444</td>\n",
              "      <td>0.000000</td>\n",
              "      <td>1.0</td>\n",
              "      <td>0.094615</td>\n",
              "      <td>0.000472</td>\n",
              "      <td>0.737374</td>\n",
              "      <td>0.097996</td>\n",
              "      <td>1.0</td>\n",
              "      <td>1.0</td>\n",
              "      <td>1</td>\n",
              "    </tr>\n",
              "    <tr>\n",
              "      <th>1</th>\n",
              "      <td>0.18750</td>\n",
              "      <td>0.5</td>\n",
              "      <td>0.5</td>\n",
              "      <td>1.0</td>\n",
              "      <td>0.0</td>\n",
              "      <td>0.000588</td>\n",
              "      <td>0.007581</td>\n",
              "      <td>0.444444</td>\n",
              "      <td>0.111111</td>\n",
              "      <td>0.5</td>\n",
              "      <td>0.040175</td>\n",
              "      <td>0.001084</td>\n",
              "      <td>0.525253</td>\n",
              "      <td>0.795100</td>\n",
              "      <td>0.0</td>\n",
              "      <td>0.0</td>\n",
              "      <td>0</td>\n",
              "    </tr>\n",
              "    <tr>\n",
              "      <th>2</th>\n",
              "      <td>0.43750</td>\n",
              "      <td>0.5</td>\n",
              "      <td>0.5</td>\n",
              "      <td>1.0</td>\n",
              "      <td>0.0</td>\n",
              "      <td>0.001442</td>\n",
              "      <td>0.000553</td>\n",
              "      <td>0.444444</td>\n",
              "      <td>0.111111</td>\n",
              "      <td>0.5</td>\n",
              "      <td>0.141708</td>\n",
              "      <td>0.001208</td>\n",
              "      <td>0.434343</td>\n",
              "      <td>0.334076</td>\n",
              "      <td>0.0</td>\n",
              "      <td>0.0</td>\n",
              "      <td>0</td>\n",
              "    </tr>\n",
              "    <tr>\n",
              "      <th>3</th>\n",
              "      <td>0.50000</td>\n",
              "      <td>0.0</td>\n",
              "      <td>0.5</td>\n",
              "      <td>1.0</td>\n",
              "      <td>0.0</td>\n",
              "      <td>0.000676</td>\n",
              "      <td>0.032687</td>\n",
              "      <td>0.166667</td>\n",
              "      <td>0.111111</td>\n",
              "      <td>0.5</td>\n",
              "      <td>0.062407</td>\n",
              "      <td>0.000920</td>\n",
              "      <td>0.202020</td>\n",
              "      <td>0.565702</td>\n",
              "      <td>0.0</td>\n",
              "      <td>0.0</td>\n",
              "      <td>0</td>\n",
              "    </tr>\n",
              "    <tr>\n",
              "      <th>4</th>\n",
              "      <td>0.71875</td>\n",
              "      <td>0.5</td>\n",
              "      <td>1.0</td>\n",
              "      <td>1.0</td>\n",
              "      <td>0.0</td>\n",
              "      <td>0.002559</td>\n",
              "      <td>0.003989</td>\n",
              "      <td>0.166667</td>\n",
              "      <td>0.000000</td>\n",
              "      <td>0.5</td>\n",
              "      <td>0.110611</td>\n",
              "      <td>0.001573</td>\n",
              "      <td>0.757576</td>\n",
              "      <td>0.951002</td>\n",
              "      <td>0.0</td>\n",
              "      <td>0.0</td>\n",
              "      <td>0</td>\n",
              "    </tr>\n",
              "  </tbody>\n",
              "</table>\n",
              "</div>\n",
              "      <button class=\"colab-df-convert\" onclick=\"convertToInteractive('df-e93610c8-9f83-493a-ba3b-65f448b7b980')\"\n",
              "              title=\"Convert this dataframe to an interactive table.\"\n",
              "              style=\"display:none;\">\n",
              "        \n",
              "  <svg xmlns=\"http://www.w3.org/2000/svg\" height=\"24px\"viewBox=\"0 0 24 24\"\n",
              "       width=\"24px\">\n",
              "    <path d=\"M0 0h24v24H0V0z\" fill=\"none\"/>\n",
              "    <path d=\"M18.56 5.44l.94 2.06.94-2.06 2.06-.94-2.06-.94-.94-2.06-.94 2.06-2.06.94zm-11 1L8.5 8.5l.94-2.06 2.06-.94-2.06-.94L8.5 2.5l-.94 2.06-2.06.94zm10 10l.94 2.06.94-2.06 2.06-.94-2.06-.94-.94-2.06-.94 2.06-2.06.94z\"/><path d=\"M17.41 7.96l-1.37-1.37c-.4-.4-.92-.59-1.43-.59-.52 0-1.04.2-1.43.59L10.3 9.45l-7.72 7.72c-.78.78-.78 2.05 0 2.83L4 21.41c.39.39.9.59 1.41.59.51 0 1.02-.2 1.41-.59l7.78-7.78 2.81-2.81c.8-.78.8-2.07 0-2.86zM5.41 20L4 18.59l7.72-7.72 1.47 1.35L5.41 20z\"/>\n",
              "  </svg>\n",
              "      </button>\n",
              "      \n",
              "  <style>\n",
              "    .colab-df-container {\n",
              "      display:flex;\n",
              "      flex-wrap:wrap;\n",
              "      gap: 12px;\n",
              "    }\n",
              "\n",
              "    .colab-df-convert {\n",
              "      background-color: #E8F0FE;\n",
              "      border: none;\n",
              "      border-radius: 50%;\n",
              "      cursor: pointer;\n",
              "      display: none;\n",
              "      fill: #1967D2;\n",
              "      height: 32px;\n",
              "      padding: 0 0 0 0;\n",
              "      width: 32px;\n",
              "    }\n",
              "\n",
              "    .colab-df-convert:hover {\n",
              "      background-color: #E2EBFA;\n",
              "      box-shadow: 0px 1px 2px rgba(60, 64, 67, 0.3), 0px 1px 3px 1px rgba(60, 64, 67, 0.15);\n",
              "      fill: #174EA6;\n",
              "    }\n",
              "\n",
              "    [theme=dark] .colab-df-convert {\n",
              "      background-color: #3B4455;\n",
              "      fill: #D2E3FC;\n",
              "    }\n",
              "\n",
              "    [theme=dark] .colab-df-convert:hover {\n",
              "      background-color: #434B5C;\n",
              "      box-shadow: 0px 1px 3px 1px rgba(0, 0, 0, 0.15);\n",
              "      filter: drop-shadow(0px 1px 2px rgba(0, 0, 0, 0.3));\n",
              "      fill: #FFFFFF;\n",
              "    }\n",
              "  </style>\n",
              "\n",
              "      <script>\n",
              "        const buttonEl =\n",
              "          document.querySelector('#df-e93610c8-9f83-493a-ba3b-65f448b7b980 button.colab-df-convert');\n",
              "        buttonEl.style.display =\n",
              "          google.colab.kernel.accessAllowed ? 'block' : 'none';\n",
              "\n",
              "        async function convertToInteractive(key) {\n",
              "          const element = document.querySelector('#df-e93610c8-9f83-493a-ba3b-65f448b7b980');\n",
              "          const dataTable =\n",
              "            await google.colab.kernel.invokeFunction('convertToInteractive',\n",
              "                                                     [key], {});\n",
              "          if (!dataTable) return;\n",
              "\n",
              "          const docLinkHtml = 'Like what you see? Visit the ' +\n",
              "            '<a target=\"_blank\" href=https://colab.research.google.com/notebooks/data_table.ipynb>data table notebook</a>'\n",
              "            + ' to learn more about interactive tables.';\n",
              "          element.innerHTML = '';\n",
              "          dataTable['output_type'] = 'display_data';\n",
              "          await google.colab.output.renderOutput(dataTable, element);\n",
              "          const docLink = document.createElement('div');\n",
              "          docLink.innerHTML = docLinkHtml;\n",
              "          element.appendChild(docLink);\n",
              "        }\n",
              "      </script>\n",
              "    </div>\n",
              "  </div>\n",
              "  "
            ],
            "text/plain": [
              "       age  gender  ...  default_in_last_6months  credit_card_default\n",
              "0  0.71875     0.0  ...                      1.0                    1\n",
              "1  0.18750     0.5  ...                      0.0                    0\n",
              "2  0.43750     0.5  ...                      0.0                    0\n",
              "3  0.50000     0.0  ...                      0.0                    0\n",
              "4  0.71875     0.5  ...                      0.0                    0\n",
              "\n",
              "[5 rows x 17 columns]"
            ]
          },
          "metadata": {},
          "execution_count": 184
        }
      ]
    },
    {
      "cell_type": "code",
      "source": [
        "# X_train_ord.to_csv('train_pn.csv', index=False)"
      ],
      "metadata": {
        "id": "Gf2nnpoCE0L2"
      },
      "execution_count": null,
      "outputs": []
    },
    {
      "cell_type": "code",
      "source": [
        "test.info()"
      ],
      "metadata": {
        "colab": {
          "base_uri": "https://localhost:8080/"
        },
        "id": "lVKS-o3zIjZD",
        "outputId": "8fc7279c-3c46-4261-9cca-9f5de3a29e22"
      },
      "execution_count": null,
      "outputs": [
        {
          "output_type": "stream",
          "name": "stdout",
          "text": [
            "<class 'pandas.core.frame.DataFrame'>\n",
            "RangeIndex: 11383 entries, 0 to 11382\n",
            "Data columns (total 16 columns):\n",
            " #   Column                   Non-Null Count  Dtype  \n",
            "---  ------                   --------------  -----  \n",
            " 0   age                      11383 non-null  int64  \n",
            " 1   gender                   11383 non-null  object \n",
            " 2   owns_car                 11251 non-null  object \n",
            " 3   owns_house               11383 non-null  object \n",
            " 4   no_of_children           11193 non-null  float64\n",
            " 5   net_yearly_income        11383 non-null  float64\n",
            " 6   no_of_days_employed      11278 non-null  float64\n",
            " 7   occupation_type          11383 non-null  object \n",
            " 8   total_family_members     11352 non-null  float64\n",
            " 9   migrant_worker           11357 non-null  float64\n",
            " 10  yearly_debt_payments     11361 non-null  float64\n",
            " 11  credit_limit             11383 non-null  float64\n",
            " 12  credit_limit_used(%)     11383 non-null  int64  \n",
            " 13  credit_score             11380 non-null  float64\n",
            " 14  prev_defaults            11383 non-null  int64  \n",
            " 15  default_in_last_6months  11383 non-null  int64  \n",
            "dtypes: float64(8), int64(4), object(4)\n",
            "memory usage: 1.4+ MB\n"
          ]
        }
      ]
    },
    {
      "cell_type": "code",
      "metadata": {
        "id": "US3YskIeJ-7A"
      },
      "source": [
        "X_test_ord = test.copy()\n",
        "X_test_ord_column = test.columns\n",
        "X_test_ord = pd.DataFrame(X_test_ord, columns=X_test_ord_column)"
      ],
      "execution_count": null,
      "outputs": []
    },
    {
      "cell_type": "code",
      "source": [
        "X_test_ord.drop(['gender', 'owns_car', 'owns_house', 'occupation_type'], axis = 1, inplace = True)"
      ],
      "metadata": {
        "id": "tfUkfeZ1J-7A"
      },
      "execution_count": null,
      "outputs": []
    },
    {
      "cell_type": "code",
      "source": [
        "X_test_ord.shape"
      ],
      "metadata": {
        "colab": {
          "base_uri": "https://localhost:8080/"
        },
        "id": "DHmkuJpsOO9f",
        "outputId": "eaede3db-7e13-4412-a56e-27dbcc1bfbf5"
      },
      "execution_count": null,
      "outputs": [
        {
          "output_type": "execute_result",
          "data": {
            "text/plain": [
              "(11383, 12)"
            ]
          },
          "metadata": {},
          "execution_count": 189
        }
      ]
    },
    {
      "cell_type": "code",
      "metadata": {
        "id": "BmuYocjPJ-7A"
      },
      "source": [
        "X_test_ord.insert(loc=1, column='gender', value=test_gender_encoded)\n",
        "X_test_ord.insert(loc=2, column='owns_car', value=test_car_encoded)\n",
        "X_test_ord.insert(loc=3, column='owns_house', value=test_house_encoded)\n",
        "X_test_ord.insert(loc=7, column='occupation_type', value=test_occ_encoded)"
      ],
      "execution_count": null,
      "outputs": []
    },
    {
      "cell_type": "code",
      "source": [
        "X_test_ord['no_of_children'] = X_test_ord['no_of_children'].fillna(X_test_ord['no_of_children'].mode()[0])\n",
        "X_test_ord['no_of_days_employed'] = X_test_ord['no_of_days_employed'].fillna(X_test_ord['no_of_days_employed'].median())\n",
        "X_test_ord['total_family_members'] = X_test_ord['total_family_members'].fillna(X_test_ord['total_family_members'].median())\n",
        "X_test_ord['migrant_worker'] = X_test_ord['migrant_worker'].fillna(-1)\n",
        "X_test_ord['yearly_debt_payments'] = X_test_ord['yearly_debt_payments'].fillna(X_test_ord['yearly_debt_payments'].median())\n",
        "X_test_ord['credit_score'] = X_test_ord['credit_score'].fillna(X_test_ord['credit_score'].mode()[0])"
      ],
      "metadata": {
        "id": "nZQ87zPlJ-7B"
      },
      "execution_count": null,
      "outputs": []
    },
    {
      "cell_type": "code",
      "source": [
        "X_test_ord_scaler = MinMaxScaler()\n",
        "X_test_ord = X_test_ord_scaler.fit_transform(X_test_ord)\n",
        "X_test_ord = pd.DataFrame(X_test_ord, columns=X_test_ord_column)"
      ],
      "metadata": {
        "id": "8t8e-NIXQZqS"
      },
      "execution_count": null,
      "outputs": []
    },
    {
      "cell_type": "code",
      "source": [
        "X_test_ord.info()"
      ],
      "metadata": {
        "colab": {
          "base_uri": "https://localhost:8080/"
        },
        "outputId": "29d06daa-ef4d-49e4-a252-3a50779008bd",
        "id": "59-DIugzJ-7B"
      },
      "execution_count": null,
      "outputs": [
        {
          "output_type": "stream",
          "name": "stdout",
          "text": [
            "<class 'pandas.core.frame.DataFrame'>\n",
            "RangeIndex: 11383 entries, 0 to 11382\n",
            "Data columns (total 16 columns):\n",
            " #   Column                   Non-Null Count  Dtype  \n",
            "---  ------                   --------------  -----  \n",
            " 0   age                      11383 non-null  float64\n",
            " 1   gender                   11383 non-null  float64\n",
            " 2   owns_car                 11383 non-null  float64\n",
            " 3   owns_house               11383 non-null  float64\n",
            " 4   no_of_children           11383 non-null  float64\n",
            " 5   net_yearly_income        11383 non-null  float64\n",
            " 6   no_of_days_employed      11383 non-null  float64\n",
            " 7   occupation_type          11383 non-null  float64\n",
            " 8   total_family_members     11383 non-null  float64\n",
            " 9   migrant_worker           11383 non-null  float64\n",
            " 10  yearly_debt_payments     11383 non-null  float64\n",
            " 11  credit_limit             11383 non-null  float64\n",
            " 12  credit_limit_used(%)     11383 non-null  float64\n",
            " 13  credit_score             11383 non-null  float64\n",
            " 14  prev_defaults            11383 non-null  float64\n",
            " 15  default_in_last_6months  11383 non-null  float64\n",
            "dtypes: float64(16)\n",
            "memory usage: 1.4 MB\n"
          ]
        }
      ]
    },
    {
      "cell_type": "code",
      "source": [
        "# X_test_ord.to_csv('test_pn.csv', index=False)"
      ],
      "metadata": {
        "id": "fSrTFdWaJ-7B"
      },
      "execution_count": null,
      "outputs": []
    },
    {
      "cell_type": "code",
      "source": [
        "y_train_ord = X_train_ord['credit_card_default']\n",
        "X_train_ord.drop(['credit_card_default'], axis=1, inplace=True)"
      ],
      "metadata": {
        "id": "cgLmoASxJ-7C"
      },
      "execution_count": null,
      "outputs": []
    },
    {
      "cell_type": "code",
      "source": [
        "X_train_ord.info()"
      ],
      "metadata": {
        "colab": {
          "base_uri": "https://localhost:8080/"
        },
        "id": "9vkg0eciU-JD",
        "outputId": "37786bc0-fdaa-40fc-e6d0-d40372007e95"
      },
      "execution_count": null,
      "outputs": [
        {
          "output_type": "stream",
          "name": "stdout",
          "text": [
            "<class 'pandas.core.frame.DataFrame'>\n",
            "RangeIndex: 45528 entries, 0 to 45527\n",
            "Data columns (total 16 columns):\n",
            " #   Column                   Non-Null Count  Dtype  \n",
            "---  ------                   --------------  -----  \n",
            " 0   age                      45528 non-null  float64\n",
            " 1   gender                   45528 non-null  float64\n",
            " 2   owns_car                 45528 non-null  float64\n",
            " 3   owns_house               45528 non-null  float64\n",
            " 4   no_of_children           45528 non-null  float64\n",
            " 5   net_yearly_income        45528 non-null  float64\n",
            " 6   no_of_days_employed      45528 non-null  float64\n",
            " 7   occupation_type          45528 non-null  float64\n",
            " 8   total_family_members     45528 non-null  float64\n",
            " 9   migrant_worker           45528 non-null  float64\n",
            " 10  yearly_debt_payments     45528 non-null  float64\n",
            " 11  credit_limit             45528 non-null  float64\n",
            " 12  credit_limit_used(%)     45528 non-null  float64\n",
            " 13  credit_score             45528 non-null  float64\n",
            " 14  prev_defaults            45528 non-null  float64\n",
            " 15  default_in_last_6months  45528 non-null  float64\n",
            "dtypes: float64(16)\n",
            "memory usage: 5.6 MB\n"
          ]
        }
      ]
    },
    {
      "cell_type": "code",
      "source": [
        "dt_ord = DecisionTreeClassifier()"
      ],
      "metadata": {
        "id": "nALJY2VMVGQn"
      },
      "execution_count": null,
      "outputs": []
    },
    {
      "cell_type": "code",
      "source": [
        "ord_pred = cross_val_predict(dt_ord, X_train_ord, y_train_ord, cv=10)"
      ],
      "metadata": {
        "id": "3SUr2BN9V0YB"
      },
      "execution_count": null,
      "outputs": []
    },
    {
      "cell_type": "code",
      "source": [
        "ord_acc = accuracy_score(y_train_ord, ord_pred)\n",
        "ord_acc*100"
      ],
      "metadata": {
        "colab": {
          "base_uri": "https://localhost:8080/"
        },
        "id": "ydl7_c8iWBiQ",
        "outputId": "31188775-ac5e-44ca-ef28-25fdc85e3c65"
      },
      "execution_count": null,
      "outputs": [
        {
          "output_type": "execute_result",
          "data": {
            "text/plain": [
              "97.31593744508874"
            ]
          },
          "metadata": {},
          "execution_count": 203
        }
      ]
    },
    {
      "cell_type": "code",
      "source": [
        "ord_score = f1_score(y_train_ord, ord_pred, average='macro')\n",
        "ord_score*100"
      ],
      "metadata": {
        "colab": {
          "base_uri": "https://localhost:8080/"
        },
        "id": "85wvcMPbWqne",
        "outputId": "0463c3ae-938f-4725-da59-217546022377"
      },
      "execution_count": null,
      "outputs": [
        {
          "output_type": "execute_result",
          "data": {
            "text/plain": [
              "91.04594741330358"
            ]
          },
          "metadata": {},
          "execution_count": 205
        }
      ]
    },
    {
      "cell_type": "code",
      "source": [
        "X_train_ord_sf = np.array(X_train)"
      ],
      "metadata": {
        "id": "r0vqbS8AWsQQ"
      },
      "execution_count": null,
      "outputs": []
    },
    {
      "cell_type": "code",
      "source": [
        "X_train_ord_sf"
      ],
      "metadata": {
        "colab": {
          "base_uri": "https://localhost:8080/"
        },
        "id": "Lv5muCOsbIii",
        "outputId": "46779bbc-d7e2-45d4-97f0-a472628f3fcf"
      },
      "execution_count": null,
      "outputs": [
        {
          "output_type": "execute_result",
          "data": {
            "text/plain": [
              "array([[46, 'F', 'N', ..., 544.0, 2, 1],\n",
              "       [29, 'M', 'N', ..., 857.0, 0, 0],\n",
              "       [37, 'M', 'N', ..., 650.0, 0, 0],\n",
              "       ...,\n",
              "       [27, 'F', 'N', ..., 727.0, 0, 0],\n",
              "       [32, 'M', 'Y', ..., 805.0, 0, 0],\n",
              "       [38, 'M', 'N', ..., 682.0, 0, 0]], dtype=object)"
            ]
          },
          "metadata": {},
          "execution_count": 207
        }
      ]
    },
    {
      "cell_type": "code",
      "source": [
        "X_train_ord_sf = X_train_ord.iloc[:, [6,7,10,11,12,13,14,15]]"
      ],
      "metadata": {
        "id": "FbrKsooZbKtx"
      },
      "execution_count": null,
      "outputs": []
    },
    {
      "cell_type": "code",
      "source": [
        "X_train_ord_sf.info()"
      ],
      "metadata": {
        "colab": {
          "base_uri": "https://localhost:8080/"
        },
        "id": "fg25vaqMcDhR",
        "outputId": "dbd97daa-a7bb-4b31-97cc-9f0e9017e4b5"
      },
      "execution_count": null,
      "outputs": [
        {
          "output_type": "stream",
          "name": "stdout",
          "text": [
            "<class 'pandas.core.frame.DataFrame'>\n",
            "RangeIndex: 45528 entries, 0 to 45527\n",
            "Data columns (total 8 columns):\n",
            " #   Column                   Non-Null Count  Dtype  \n",
            "---  ------                   --------------  -----  \n",
            " 0   no_of_days_employed      45528 non-null  float64\n",
            " 1   occupation_type          45528 non-null  float64\n",
            " 2   yearly_debt_payments     45528 non-null  float64\n",
            " 3   credit_limit             45528 non-null  float64\n",
            " 4   credit_limit_used(%)     45528 non-null  float64\n",
            " 5   credit_score             45528 non-null  float64\n",
            " 6   prev_defaults            45528 non-null  float64\n",
            " 7   default_in_last_6months  45528 non-null  float64\n",
            "dtypes: float64(8)\n",
            "memory usage: 2.8 MB\n"
          ]
        }
      ]
    },
    {
      "cell_type": "code",
      "source": [
        "dt_ord_sf = DecisionTreeClassifier()\n",
        "ord_pred_sf = cross_val_predict(dt_ord_sf, X_train_ord_sf, y_train_ord, cv=10)\n",
        "ord_acc = accuracy_score(y_train_ord, ord_pred_sf)\n",
        "print(ord_acc*100)\n",
        "ord_score = f1_score(y_train_ord, ord_pred_sf, average='macro')\n",
        "print(ord_score*100)"
      ],
      "metadata": {
        "colab": {
          "base_uri": "https://localhost:8080/"
        },
        "id": "ksgDLmk95gZV",
        "outputId": "790e6674-a333-468b-bd0b-09ab63833e2d"
      },
      "execution_count": null,
      "outputs": [
        {
          "output_type": "stream",
          "name": "stdout",
          "text": [
            "97.3203303461606\n",
            "91.08682676008813\n"
          ]
        }
      ]
    },
    {
      "cell_type": "code",
      "source": [
        ""
      ],
      "metadata": {
        "id": "CJQvK8Sr6A6T"
      },
      "execution_count": null,
      "outputs": []
    }
  ]
}